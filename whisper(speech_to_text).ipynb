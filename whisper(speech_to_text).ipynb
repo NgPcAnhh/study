{
  "nbformat": 4,
  "nbformat_minor": 0,
  "metadata": {
    "colab": {
      "provenance": [],
      "authorship_tag": "ABX9TyMLirFFaviy5E+28LhEzwFv",
      "include_colab_link": true
    },
    "kernelspec": {
      "name": "python3",
      "display_name": "Python 3"
    },
    "language_info": {
      "name": "python"
    }
  },
  "cells": [
    {
      "cell_type": "markdown",
      "metadata": {
        "id": "view-in-github",
        "colab_type": "text"
      },
      "source": [
        "<a href=\"https://colab.research.google.com/github/NgPcAnhh/study/blob/main/whisper(speech_to_text).ipynb\" target=\"_parent\"><img src=\"https://colab.research.google.com/assets/colab-badge.svg\" alt=\"Open In Colab\"/></a>"
      ]
    },
    {
      "cell_type": "markdown",
      "source": [
        "sử dụng ffmpeg"
      ],
      "metadata": {
        "id": "IYpPkLnlyAa3"
      }
    },
    {
      "cell_type": "code",
      "source": [
        "!apt-get -y install ffmpeg\n"
      ],
      "metadata": {
        "colab": {
          "base_uri": "https://localhost:8080/"
        },
        "id": "NOzY2A1sxoDf",
        "outputId": "6f38201b-10e5-42d6-ee24-452f6ad0ed2e"
      },
      "execution_count": null,
      "outputs": [
        {
          "output_type": "stream",
          "name": "stdout",
          "text": [
            "Reading package lists... Done\n",
            "Building dependency tree... Done\n",
            "Reading state information... Done\n",
            "ffmpeg is already the newest version (7:4.4.2-0ubuntu0.22.04.1).\n",
            "0 upgraded, 0 newly installed, 0 to remove and 49 not upgraded.\n"
          ]
        }
      ]
    },
    {
      "cell_type": "code",
      "source": [
        "!ffmpeg -version"
      ],
      "metadata": {
        "colab": {
          "base_uri": "https://localhost:8080/"
        },
        "id": "ydqBQ4W5x1Nf",
        "outputId": "9ba908c4-b480-44ab-aaee-7cbdbefe9a50"
      },
      "execution_count": null,
      "outputs": [
        {
          "output_type": "stream",
          "name": "stdout",
          "text": [
            "ffmpeg version 4.4.2-0ubuntu0.22.04.1 Copyright (c) 2000-2021 the FFmpeg developers\n",
            "built with gcc 11 (Ubuntu 11.2.0-19ubuntu1)\n",
            "configuration: --prefix=/usr --extra-version=0ubuntu0.22.04.1 --toolchain=hardened --libdir=/usr/lib/x86_64-linux-gnu --incdir=/usr/include/x86_64-linux-gnu --arch=amd64 --enable-gpl --disable-stripping --enable-gnutls --enable-ladspa --enable-libaom --enable-libass --enable-libbluray --enable-libbs2b --enable-libcaca --enable-libcdio --enable-libcodec2 --enable-libdav1d --enable-libflite --enable-libfontconfig --enable-libfreetype --enable-libfribidi --enable-libgme --enable-libgsm --enable-libjack --enable-libmp3lame --enable-libmysofa --enable-libopenjpeg --enable-libopenmpt --enable-libopus --enable-libpulse --enable-librabbitmq --enable-librubberband --enable-libshine --enable-libsnappy --enable-libsoxr --enable-libspeex --enable-libsrt --enable-libssh --enable-libtheora --enable-libtwolame --enable-libvidstab --enable-libvorbis --enable-libvpx --enable-libwebp --enable-libx265 --enable-libxml2 --enable-libxvid --enable-libzimg --enable-libzmq --enable-libzvbi --enable-lv2 --enable-omx --enable-openal --enable-opencl --enable-opengl --enable-sdl2 --enable-pocketsphinx --enable-librsvg --enable-libmfx --enable-libdc1394 --enable-libdrm --enable-libiec61883 --enable-chromaprint --enable-frei0r --enable-libx264 --enable-shared\n",
            "libavutil      56. 70.100 / 56. 70.100\n",
            "libavcodec     58.134.100 / 58.134.100\n",
            "libavformat    58. 76.100 / 58. 76.100\n",
            "libavdevice    58. 13.100 / 58. 13.100\n",
            "libavfilter     7.110.100 /  7.110.100\n",
            "libswscale      5.  9.100 /  5.  9.100\n",
            "libswresample   3.  9.100 /  3.  9.100\n",
            "libpostproc    55.  9.100 / 55.  9.100\n"
          ]
        }
      ]
    },
    {
      "cell_type": "code",
      "source": [
        "!ffmpeg -i Practise_recording_20250120_092332.wav -ar 16000 audio.wav"
      ],
      "metadata": {
        "colab": {
          "base_uri": "https://localhost:8080/"
        },
        "id": "afbMBU4Wxr42",
        "outputId": "b8497b1b-b67d-4b58-ed09-6141a9b7521f"
      },
      "execution_count": null,
      "outputs": [
        {
          "output_type": "stream",
          "name": "stdout",
          "text": [
            "ffmpeg version 4.4.2-0ubuntu0.22.04.1 Copyright (c) 2000-2021 the FFmpeg developers\n",
            "  built with gcc 11 (Ubuntu 11.2.0-19ubuntu1)\n",
            "  configuration: --prefix=/usr --extra-version=0ubuntu0.22.04.1 --toolchain=hardened --libdir=/usr/lib/x86_64-linux-gnu --incdir=/usr/include/x86_64-linux-gnu --arch=amd64 --enable-gpl --disable-stripping --enable-gnutls --enable-ladspa --enable-libaom --enable-libass --enable-libbluray --enable-libbs2b --enable-libcaca --enable-libcdio --enable-libcodec2 --enable-libdav1d --enable-libflite --enable-libfontconfig --enable-libfreetype --enable-libfribidi --enable-libgme --enable-libgsm --enable-libjack --enable-libmp3lame --enable-libmysofa --enable-libopenjpeg --enable-libopenmpt --enable-libopus --enable-libpulse --enable-librabbitmq --enable-librubberband --enable-libshine --enable-libsnappy --enable-libsoxr --enable-libspeex --enable-libsrt --enable-libssh --enable-libtheora --enable-libtwolame --enable-libvidstab --enable-libvorbis --enable-libvpx --enable-libwebp --enable-libx265 --enable-libxml2 --enable-libxvid --enable-libzimg --enable-libzmq --enable-libzvbi --enable-lv2 --enable-omx --enable-openal --enable-opencl --enable-opengl --enable-sdl2 --enable-pocketsphinx --enable-librsvg --enable-libmfx --enable-libdc1394 --enable-libdrm --enable-libiec61883 --enable-chromaprint --enable-frei0r --enable-libx264 --enable-shared\n",
            "  libavutil      56. 70.100 / 56. 70.100\n",
            "  libavcodec     58.134.100 / 58.134.100\n",
            "  libavformat    58. 76.100 / 58. 76.100\n",
            "  libavdevice    58. 13.100 / 58. 13.100\n",
            "  libavfilter     7.110.100 /  7.110.100\n",
            "  libswscale      5.  9.100 /  5.  9.100\n",
            "  libswresample   3.  9.100 /  3.  9.100\n",
            "  libpostproc    55.  9.100 / 55.  9.100\n",
            "\u001b[0;33mGuessed Channel Layout for Input Stream #0.0 : stereo\n",
            "\u001b[0mInput #0, wav, from 'Practise_recording_20250120_092332.wav':\n",
            "  Duration: 00:14:14.01, bitrate: 1411 kb/s\n",
            "  Stream #0:0: Audio: pcm_s16le ([1][0][0][0] / 0x0001), 44100 Hz, stereo, s16, 1411 kb/s\n",
            "Stream mapping:\n",
            "  Stream #0:0 -> #0:0 (pcm_s16le (native) -> pcm_s16le (native))\n",
            "Press [q] to stop, [?] for help\n",
            "Output #0, wav, to 'audio.wav':\n",
            "  Metadata:\n",
            "    ISFT            : Lavf58.76.100\n",
            "  Stream #0:0: Audio: pcm_s16le ([1][0][0][0] / 0x0001), 16000 Hz, stereo, s16, 512 kb/s\n",
            "    Metadata:\n",
            "      encoder         : Lavc58.134.100 pcm_s16le\n",
            "size=   53375kB time=00:14:14.00 bitrate= 512.0kbits/s speed= 518x    \n",
            "video:0kB audio:53375kB subtitle:0kB other streams:0kB global headers:0kB muxing overhead: 0.000143%\n"
          ]
        }
      ]
    },
    {
      "cell_type": "markdown",
      "source": [
        "sử dụng whisper Ai"
      ],
      "metadata": {
        "id": "Kgu6lOvjyHBm"
      }
    },
    {
      "cell_type": "code",
      "source": [
        "!pip install openai-whisper"
      ],
      "metadata": {
        "colab": {
          "base_uri": "https://localhost:8080/"
        },
        "collapsed": true,
        "id": "aGt5TNAhyGR2",
        "outputId": "2173aae9-f065-41c3-9565-b40673625afc"
      },
      "execution_count": null,
      "outputs": [
        {
          "output_type": "stream",
          "name": "stdout",
          "text": [
            "Requirement already satisfied: openai-whisper in /usr/local/lib/python3.11/dist-packages (20240930)\n",
            "Requirement already satisfied: numba in /usr/local/lib/python3.11/dist-packages (from openai-whisper) (0.60.0)\n",
            "Requirement already satisfied: numpy in /usr/local/lib/python3.11/dist-packages (from openai-whisper) (1.26.4)\n",
            "Requirement already satisfied: torch in /usr/local/lib/python3.11/dist-packages (from openai-whisper) (2.5.1+cu121)\n",
            "Requirement already satisfied: tqdm in /usr/local/lib/python3.11/dist-packages (from openai-whisper) (4.67.1)\n",
            "Requirement already satisfied: more-itertools in /usr/local/lib/python3.11/dist-packages (from openai-whisper) (10.5.0)\n",
            "Requirement already satisfied: tiktoken in /usr/local/lib/python3.11/dist-packages (from openai-whisper) (0.8.0)\n",
            "Requirement already satisfied: triton>=2.0.0 in /usr/local/lib/python3.11/dist-packages (from openai-whisper) (3.1.0)\n",
            "Requirement already satisfied: filelock in /usr/local/lib/python3.11/dist-packages (from triton>=2.0.0->openai-whisper) (3.16.1)\n",
            "Requirement already satisfied: llvmlite<0.44,>=0.43.0dev0 in /usr/local/lib/python3.11/dist-packages (from numba->openai-whisper) (0.43.0)\n",
            "Requirement already satisfied: regex>=2022.1.18 in /usr/local/lib/python3.11/dist-packages (from tiktoken->openai-whisper) (2024.11.6)\n",
            "Requirement already satisfied: requests>=2.26.0 in /usr/local/lib/python3.11/dist-packages (from tiktoken->openai-whisper) (2.32.3)\n",
            "Requirement already satisfied: typing-extensions>=4.8.0 in /usr/local/lib/python3.11/dist-packages (from torch->openai-whisper) (4.12.2)\n",
            "Requirement already satisfied: networkx in /usr/local/lib/python3.11/dist-packages (from torch->openai-whisper) (3.4.2)\n",
            "Requirement already satisfied: jinja2 in /usr/local/lib/python3.11/dist-packages (from torch->openai-whisper) (3.1.5)\n",
            "Requirement already satisfied: fsspec in /usr/local/lib/python3.11/dist-packages (from torch->openai-whisper) (2024.10.0)\n",
            "Requirement already satisfied: nvidia-cuda-nvrtc-cu12==12.1.105 in /usr/local/lib/python3.11/dist-packages (from torch->openai-whisper) (12.1.105)\n",
            "Requirement already satisfied: nvidia-cuda-runtime-cu12==12.1.105 in /usr/local/lib/python3.11/dist-packages (from torch->openai-whisper) (12.1.105)\n",
            "Requirement already satisfied: nvidia-cuda-cupti-cu12==12.1.105 in /usr/local/lib/python3.11/dist-packages (from torch->openai-whisper) (12.1.105)\n",
            "Requirement already satisfied: nvidia-cudnn-cu12==9.1.0.70 in /usr/local/lib/python3.11/dist-packages (from torch->openai-whisper) (9.1.0.70)\n",
            "Requirement already satisfied: nvidia-cublas-cu12==12.1.3.1 in /usr/local/lib/python3.11/dist-packages (from torch->openai-whisper) (12.1.3.1)\n",
            "Requirement already satisfied: nvidia-cufft-cu12==11.0.2.54 in /usr/local/lib/python3.11/dist-packages (from torch->openai-whisper) (11.0.2.54)\n",
            "Requirement already satisfied: nvidia-curand-cu12==10.3.2.106 in /usr/local/lib/python3.11/dist-packages (from torch->openai-whisper) (10.3.2.106)\n",
            "Requirement already satisfied: nvidia-cusolver-cu12==11.4.5.107 in /usr/local/lib/python3.11/dist-packages (from torch->openai-whisper) (11.4.5.107)\n",
            "Requirement already satisfied: nvidia-cusparse-cu12==12.1.0.106 in /usr/local/lib/python3.11/dist-packages (from torch->openai-whisper) (12.1.0.106)\n",
            "Requirement already satisfied: nvidia-nccl-cu12==2.21.5 in /usr/local/lib/python3.11/dist-packages (from torch->openai-whisper) (2.21.5)\n",
            "Requirement already satisfied: nvidia-nvtx-cu12==12.1.105 in /usr/local/lib/python3.11/dist-packages (from torch->openai-whisper) (12.1.105)\n",
            "Requirement already satisfied: sympy==1.13.1 in /usr/local/lib/python3.11/dist-packages (from torch->openai-whisper) (1.13.1)\n",
            "Requirement already satisfied: nvidia-nvjitlink-cu12 in /usr/local/lib/python3.11/dist-packages (from nvidia-cusolver-cu12==11.4.5.107->torch->openai-whisper) (12.6.85)\n",
            "Requirement already satisfied: mpmath<1.4,>=1.1.0 in /usr/local/lib/python3.11/dist-packages (from sympy==1.13.1->torch->openai-whisper) (1.3.0)\n",
            "Requirement already satisfied: charset-normalizer<4,>=2 in /usr/local/lib/python3.11/dist-packages (from requests>=2.26.0->tiktoken->openai-whisper) (3.4.1)\n",
            "Requirement already satisfied: idna<4,>=2.5 in /usr/local/lib/python3.11/dist-packages (from requests>=2.26.0->tiktoken->openai-whisper) (3.10)\n",
            "Requirement already satisfied: urllib3<3,>=1.21.1 in /usr/local/lib/python3.11/dist-packages (from requests>=2.26.0->tiktoken->openai-whisper) (2.3.0)\n",
            "Requirement already satisfied: certifi>=2017.4.17 in /usr/local/lib/python3.11/dist-packages (from requests>=2.26.0->tiktoken->openai-whisper) (2024.12.14)\n",
            "Requirement already satisfied: MarkupSafe>=2.0 in /usr/local/lib/python3.11/dist-packages (from jinja2->torch->openai-whisper) (2.1.5)\n"
          ]
        }
      ]
    },
    {
      "cell_type": "code",
      "source": [
        "!pip install pydub"
      ],
      "metadata": {
        "colab": {
          "base_uri": "https://localhost:8080/"
        },
        "id": "Jt_Qe4AOzQfl",
        "outputId": "0d5b4404-bb46-49e5-e545-29c4ef6010f5"
      },
      "execution_count": null,
      "outputs": [
        {
          "output_type": "stream",
          "name": "stdout",
          "text": [
            "Requirement already satisfied: pydub in /usr/local/lib/python3.11/dist-packages (0.25.1)\n"
          ]
        }
      ]
    },
    {
      "cell_type": "code",
      "source": [
        "import whisper\n",
        "import numpy as np\n",
        "from pydub import AudioSegment\n",
        "import math\n",
        "import os\n",
        "\n",
        "def process_audio_in_chunks(audio_path, model, chunk_duration=30000):\n",
        "    # Load file âm thanh using pydub\n",
        "    audio = AudioSegment.from_wav(audio_path)\n",
        "\n",
        "    # Tính số lượng chunk\n",
        "    total_duration = len(audio)\n",
        "    chunks = math.ceil(total_duration / chunk_duration)\n",
        "\n",
        "    full_transcript = []\n",
        "\n",
        "    # Xử lý từng chunk\n",
        "    for i in range(chunks):\n",
        "        start_time = i * chunk_duration\n",
        "        end_time = min((i + 1) * chunk_duration, total_duration)\n",
        "\n",
        "        # Cắt audio chunk\n",
        "        chunk = audio[start_time:end_time]\n",
        "\n",
        "        # Tăng âm lượng nếu quá nhỏ\n",
        "        if chunk.dBFS < -30:\n",
        "            chunk = chunk + min(20, abs(chunk.dBFS + 20))\n",
        "\n",
        "        # Lưu chunk tạm thời\n",
        "        temp_path = f\"temp_chunk_{i}.wav\"\n",
        "        chunk.export(temp_path, format=\"wav\")\n",
        "\n",
        "        # Xử lý với Whisper\n",
        "        try:\n",
        "            audio_chunk = whisper.load_audio(temp_path)\n",
        "            audio_chunk = whisper.pad_or_trim(audio_chunk)\n",
        "            mel = whisper.log_mel_spectrogram(audio_chunk).to(model.device)\n",
        "\n",
        "            options = whisper.DecodingOptions(\n",
        "                language=\"en\",\n",
        "                fp16=False,\n",
        "                beam_size=5  # Chỉ sử dụng beam_size\n",
        "            )\n",
        "\n",
        "            result = whisper.decode(model, mel, options)\n",
        "\n",
        "            if result.text.strip():\n",
        "                print(f\"Chunk {i} transcription:\", result.text)\n",
        "                full_transcript.append(result.text)\n",
        "            else:\n",
        "                print(f\"Chunk {i}: No speech detected\")\n",
        "\n",
        "        except Exception as e:\n",
        "            print(f\"Lỗi khi xử lý chunk {i}: {str(e)}\")\n",
        "            continue\n",
        "        finally:\n",
        "            # Xóa file tạm sau khi xử lý xong\n",
        "            if os.path.exists(temp_path):\n",
        "                os.remove(temp_path)\n",
        "\n",
        "    return \" \".join(full_transcript)\n",
        "\n",
        "def main():\n",
        "    # Tải model\n",
        "    model = whisper.load_model(\"base\")\n",
        "\n",
        "    # Đường dẫn file audio\n",
        "    audio_path = \"Practise_recording_20250120_092332.wav\"\n",
        "\n",
        "    # Xử lý audio và in kết quả\n",
        "    transcript = process_audio_in_chunks(audio_path, model)\n",
        "    print(\"\\nFull transcription:\", transcript)\n",
        "\n",
        "    if not transcript:\n",
        "        print(\"Không phát hiện được giọng nói trong file audio. Vui lòng kiểm tra:\")\n",
        "        print(\"1. Chất lượng âm thanh đầu vào\")\n",
        "        print(\"2. Định dạng file audio\")\n",
        "        print(\"3. Âm lượng của file\")\n",
        "\n",
        "if __name__ == \"__main__\":\n",
        "    main()"
      ],
      "metadata": {
        "colab": {
          "base_uri": "https://localhost:8080/"
        },
        "id": "ZvNB2YHcyNWu",
        "outputId": "3fa3f8b9-6cd0-4731-c388-d2750f5b11cd"
      },
      "execution_count": null,
      "outputs": [
        {
          "output_type": "stream",
          "name": "stdout",
          "text": [
            "Chunk 0 transcription: This is the simulated speaking test and I'm your examiner. Can you hear my voice? Okay, please make sure that your microphone is on and keep your surrounding area silent. You should adjust the volume before the test. Are you ready? Okay, let's start. Now, in this first part, I'd like to ask you some questions about yourself.\n",
            "Chunk 1 transcription: don't like about your area. What are they? For me, there might be a field thing that I don't like about my area, such as the traffic congestion during the big hour, which made commuting super stressful and time-consuming. Now, resolutions can also be\n",
            "Chunk 2 transcription: And additionally, the lack of green space or public parks in some urban neighborhoods can make it feel credit and less relaxing than the availability of public facilities like libraries or recreational centers might also be limited in some area.\n",
            "Chunk 3 transcription: Do you know any of your neighbors? Well, I know a few of them. For instance, there's an elderly couple next door who are very friendly and we often exchange pleasant tea. Another neighbor has children who play outside and I sometimes chat with their parents.\n",
            "Chunk 4 transcription: communities and make the area feel more secure and we're coming. Wow, do you like watching documentaries and movies related to history?\n",
            "Chunk 5 transcription: historical documentaries and movie because they provide valuable insights into past events, cultural and civilisations. For example, the documentaries about World War 2, the second World War are the Asian Civilisations, Civilisations like Egypt's or Rome's fascinatings,\n",
            "Chunk 6 transcription: we live today. And yeah historical movie wise sometimes dramatized bring these stories to life and make more engaging. Do you like history as a subject in your school? Why? Yes I enjoy history as the\n",
            "Chunk 7 transcription: It helped me to understand the root of current societal structures, traditional traditions and conflict, learning about influential figures and events, such as the Industrial Revolution, or the Civil Rights Movement, gave me a broader perspective on how decisions in past continue to impact the present.\n",
            "Chunk 8 transcription: critical thinking through other lives in cost and effects. Have you ever supported a sports team?\n",
            "Chunk 9 transcription: and I enjoy watching their match, especially during the important tournaments. Supporting a team brings excitement and a sense of comedies and share passion with fellow fans. It also makes an experience of watching game and more emotional and thrilling.\n",
            "Chunk 10 transcription: Do you think there is too much sport on television in your country? It's actually depend on the perspective for sport and to assist. The varieties of sport on television is actually the positive things. It caters a different interest. However, non-spot viewer might feel like there is an overload,\n",
            "Chunk 11 transcription: channels prioritize spot coverage over other general and the key is having a balanced range of programming that color to our preference.\n",
            "Chunk 12 transcription: In part two, I'm going to give you a topic and I'd like you to talk about it for one to two minutes. Before you talk, you'll have one minute to think about what you are going to say. You can make some notes if you wish. Here's some paper and a pencil for making notes, and here's your topic. Describe an activity you enjoy in your free time when you were young.\n",
            "Chunk 13 transcription: did it, who you did it with, and explain how you felt about it. You will have one minute to prepare. I will tell you when the time is up.\n",
            "Chunk 14 transcription: I'm sorry, I'm sorry, I'm sorry, I'm sorry, I'm sorry, I'm sorry, I'm sorry, I'm sorry, I'm sorry, I'm sorry, I'm sorry, I'm sorry, I'm sorry, I'm sorry, I'm sorry, I'm sorry, I'm sorry, I'm sorry, I'm sorry, I'm sorry, I'm sorry, I'm sorry, I'm sorry, I'm sorry, I'm sorry, I'm sorry, I'm sorry, I'm sorry, I'm sorry, I'm sorry, I'm sorry, I'm sorry, I'm sorry, I'm sorry, I'm sorry, I'm sorry, I'm sorry, I'm sorry, I'm sorry, I'm sorry, I'm sorry, I'm sorry, I'm sorry, I'm sorry, I'm sorry, I'm sorry, I'm sorry, I'm sorry, I'm sorry, I'm sorry, I'm sorry, I'm sorry, I'm sorry, I'm sorry, I'm sorry, I'm sorry\n",
            "Chunk 15 transcription: All right, remember you have one to two minutes for this, so don't worry if I stop you. I'll tell you when the time is up. Can you start speaking now?\n",
            "Chunk 16 transcription: to do in my three times was running my bicycle. It was sometimes I looked forward to almost every day especially when the weather was nice. I would offer right around my neighborhood or head of the nearby park. The thrill of feelings, the wine in my hair as a pedaled lawn was unmatched.\n",
            "Chunk 17 transcription: Usually, I was alone on this drive. I would often drive with my friends or my cousin and we would have a little race or explore new routes together. Sometimes I would even stop and sit by a quiet spot in the park to chat, share snacks or enjoy some companies like stories with the other.\n",
            "Chunk 18 transcription: itself, it was a whole experience, laughing together, playing games, or making up little challenge along a way. And there was something incredibly strange about those moments, writing a bike allowed me to escape the roadies, drove teens of everyday life, and it gave me a sense of independence\n",
            "Chunk 19 transcription: exercise, fun and relaxations. Looking back, those by rice represents some of the most joyful and carefree times of my childhood. They are memories, I'm sorry, they are memories I will always cherish as they bring back feeling of happiness, adventures and these\n",
            "Chunk 20 transcription: Let's move to the next part. Now we move on to part 3. You've been talking about a topic and I'd like to discuss with you some general questions related to it. Do adults and children have enough time for leisure activities nowadays? Unfortunately many adults and children struggle to find enough time for leisure activities.\n",
            "Chunk 21 transcription: demands of scheduled adult often juggle work and household responsibilities while children are occupied with school work or extra curricular activities in school. However, periodizing leisure is actually essential for mental and physical well-being.\n",
            "Chunk 22 transcription: to allow people to relax and recharge. Okay, what sports do young people like to do now? Well, young people today are down to a mix of traditional and modern sport, popular activities include football, basketball, swimming, as well as change the option\n",
            "Chunk 23 transcription: Skateboarding, pickables or indoor rock climbing, fitness-related activities such as yoga or gyms workouts, has also gained popularity among a younger generation due to the growing awareness of health and fitness.\n",
            "Chunk 24 transcription: to have a break during work or study? Yes, taking breaks during work or study is crucial. Short break helps refresh the mind, prevent burnout and improve productivity. For example, like 10-minute work or stretching sessions can significantly boost focus and energy level.\n",
            "Chunk 25 transcription: Energize, making it easier to tackle tasks more effectively. Impressive. Are there more activities for young people now than years ago?\n",
            "Chunk 26 transcription: There are far more activities for young people now than in the past. Modern advancements in technologies such as video games, virtual realities and social media offer new forms of entertainment. Additionally, in urban areas, provide facilities for diverse interest from creative art workshops\n",
            "Chunk 27 transcription: spot center. However, traditional activities like playing outside on Team spot remain popular showing the balance between O and news option continues to\n",
            "Chunk 28 transcription: The speaking test is now complete. Thank you for your time. The recording has been saved. You can now exit the test. Goodbye.\n",
            "\n",
            "Full transcription: This is the simulated speaking test and I'm your examiner. Can you hear my voice? Okay, please make sure that your microphone is on and keep your surrounding area silent. You should adjust the volume before the test. Are you ready? Okay, let's start. Now, in this first part, I'd like to ask you some questions about yourself. don't like about your area. What are they? For me, there might be a field thing that I don't like about my area, such as the traffic congestion during the big hour, which made commuting super stressful and time-consuming. Now, resolutions can also be And additionally, the lack of green space or public parks in some urban neighborhoods can make it feel credit and less relaxing than the availability of public facilities like libraries or recreational centers might also be limited in some area. Do you know any of your neighbors? Well, I know a few of them. For instance, there's an elderly couple next door who are very friendly and we often exchange pleasant tea. Another neighbor has children who play outside and I sometimes chat with their parents. communities and make the area feel more secure and we're coming. Wow, do you like watching documentaries and movies related to history? historical documentaries and movie because they provide valuable insights into past events, cultural and civilisations. For example, the documentaries about World War 2, the second World War are the Asian Civilisations, Civilisations like Egypt's or Rome's fascinatings, we live today. And yeah historical movie wise sometimes dramatized bring these stories to life and make more engaging. Do you like history as a subject in your school? Why? Yes I enjoy history as the It helped me to understand the root of current societal structures, traditional traditions and conflict, learning about influential figures and events, such as the Industrial Revolution, or the Civil Rights Movement, gave me a broader perspective on how decisions in past continue to impact the present. critical thinking through other lives in cost and effects. Have you ever supported a sports team? and I enjoy watching their match, especially during the important tournaments. Supporting a team brings excitement and a sense of comedies and share passion with fellow fans. It also makes an experience of watching game and more emotional and thrilling. Do you think there is too much sport on television in your country? It's actually depend on the perspective for sport and to assist. The varieties of sport on television is actually the positive things. It caters a different interest. However, non-spot viewer might feel like there is an overload, channels prioritize spot coverage over other general and the key is having a balanced range of programming that color to our preference. In part two, I'm going to give you a topic and I'd like you to talk about it for one to two minutes. Before you talk, you'll have one minute to think about what you are going to say. You can make some notes if you wish. Here's some paper and a pencil for making notes, and here's your topic. Describe an activity you enjoy in your free time when you were young. did it, who you did it with, and explain how you felt about it. You will have one minute to prepare. I will tell you when the time is up. I'm sorry, I'm sorry, I'm sorry, I'm sorry, I'm sorry, I'm sorry, I'm sorry, I'm sorry, I'm sorry, I'm sorry, I'm sorry, I'm sorry, I'm sorry, I'm sorry, I'm sorry, I'm sorry, I'm sorry, I'm sorry, I'm sorry, I'm sorry, I'm sorry, I'm sorry, I'm sorry, I'm sorry, I'm sorry, I'm sorry, I'm sorry, I'm sorry, I'm sorry, I'm sorry, I'm sorry, I'm sorry, I'm sorry, I'm sorry, I'm sorry, I'm sorry, I'm sorry, I'm sorry, I'm sorry, I'm sorry, I'm sorry, I'm sorry, I'm sorry, I'm sorry, I'm sorry, I'm sorry, I'm sorry, I'm sorry, I'm sorry, I'm sorry, I'm sorry, I'm sorry, I'm sorry, I'm sorry, I'm sorry, I'm sorry All right, remember you have one to two minutes for this, so don't worry if I stop you. I'll tell you when the time is up. Can you start speaking now? to do in my three times was running my bicycle. It was sometimes I looked forward to almost every day especially when the weather was nice. I would offer right around my neighborhood or head of the nearby park. The thrill of feelings, the wine in my hair as a pedaled lawn was unmatched. Usually, I was alone on this drive. I would often drive with my friends or my cousin and we would have a little race or explore new routes together. Sometimes I would even stop and sit by a quiet spot in the park to chat, share snacks or enjoy some companies like stories with the other. itself, it was a whole experience, laughing together, playing games, or making up little challenge along a way. And there was something incredibly strange about those moments, writing a bike allowed me to escape the roadies, drove teens of everyday life, and it gave me a sense of independence exercise, fun and relaxations. Looking back, those by rice represents some of the most joyful and carefree times of my childhood. They are memories, I'm sorry, they are memories I will always cherish as they bring back feeling of happiness, adventures and these Let's move to the next part. Now we move on to part 3. You've been talking about a topic and I'd like to discuss with you some general questions related to it. Do adults and children have enough time for leisure activities nowadays? Unfortunately many adults and children struggle to find enough time for leisure activities. demands of scheduled adult often juggle work and household responsibilities while children are occupied with school work or extra curricular activities in school. However, periodizing leisure is actually essential for mental and physical well-being. to allow people to relax and recharge. Okay, what sports do young people like to do now? Well, young people today are down to a mix of traditional and modern sport, popular activities include football, basketball, swimming, as well as change the option Skateboarding, pickables or indoor rock climbing, fitness-related activities such as yoga or gyms workouts, has also gained popularity among a younger generation due to the growing awareness of health and fitness. to have a break during work or study? Yes, taking breaks during work or study is crucial. Short break helps refresh the mind, prevent burnout and improve productivity. For example, like 10-minute work or stretching sessions can significantly boost focus and energy level. Energize, making it easier to tackle tasks more effectively. Impressive. Are there more activities for young people now than years ago? There are far more activities for young people now than in the past. Modern advancements in technologies such as video games, virtual realities and social media offer new forms of entertainment. Additionally, in urban areas, provide facilities for diverse interest from creative art workshops spot center. However, traditional activities like playing outside on Team spot remain popular showing the balance between O and news option continues to The speaking test is now complete. Thank you for your time. The recording has been saved. You can now exit the test. Goodbye.\n"
          ]
        }
      ]
    }
  ]
}